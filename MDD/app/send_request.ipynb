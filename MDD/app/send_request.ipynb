{
 "cells": [
  {
   "cell_type": "markdown",
   "metadata": {},
   "source": [
    "Please make sure your operating system supports curl command. "
   ]
  },
  {
   "cell_type": "code",
   "execution_count": 27,
   "metadata": {},
   "outputs": [
    {
     "name": "stdout",
     "output_type": "stream",
     "text": [
      "curl 7.68.0 (x86_64-pc-linux-gnu) libcurl/7.68.0 OpenSSL/1.1.1f zlib/1.2.11 brotli/1.0.7 libidn2/2.2.0 libpsl/0.21.0 (+libidn2/2.2.0) libssh/0.9.3/openssl/zlib nghttp2/1.40.0 librtmp/2.3\n",
      "Release-Date: 2020-01-08\n",
      "Protocols: dict file ftp ftps gopher http https imap imaps ldap ldaps pop3 pop3s rtmp rtsp scp sftp smb smbs smtp smtps telnet tftp \n",
      "Features: AsynchDNS brotli GSS-API HTTP2 HTTPS-proxy IDN IPv6 Kerberos Largefile libz NTLM NTLM_WB PSL SPNEGO SSL TLS-SRP UnixSockets\n"
     ]
    }
   ],
   "source": [
    "%%bash\n",
    "\n",
    "curl --version"
   ]
  },
  {
   "cell_type": "markdown",
   "metadata": {},
   "source": [
    "The below cell, sends a curl request with the POST method to get classification result from the app. \n",
    "Please put your image/s in the data folder of app.\n",
    "To use your own image, simply replace the last part of the request (i.e. \"coco3.png\") with your own image name."
   ]
  },
  {
   "cell_type": "code",
   "execution_count": 26,
   "metadata": {},
   "outputs": [
    {
     "name": "stderr",
     "output_type": "stream",
     "text": [
      "  % Total    % Received % Xferd  Average Speed   Time    Time     Time  Current\n",
      "                                 Dload  Upload   Total   Spent    Left  Speed\n",
      "100    56  100    30  100    26     42     36 --:--:-- --:--:-- --:--:--    79\n"
     ]
    },
    {
     "name": "stdout",
     "output_type": "stream",
     "text": [
      "\u001b[33mnginx    |\u001b[0m 172.18.0.1 - - [26/Sep/2022:14:06:01 +0000] \"POST /predict HTTP/1.1\" 200 30 \"-\" \"curl/7.68.0\" \"-\"\n",
      "passenger car, coach, carriage"
     ]
    }
   ],
   "source": [
    "%%bash\n",
    "curl -X POST http://localhost:5000/predict --header 'Content-Type: application/json' -d '{\"image name\":\"coco3.png\"}'"
   ]
  }
 ],
 "metadata": {
  "interpreter": {
   "hash": "1c34581506b134572ddbbcce131b0932ce55f9953fe5618b668a34e2008112d6"
  },
  "kernelspec": {
   "display_name": "Python 3.8.13 ('lemay')",
   "language": "python",
   "name": "python3"
  },
  "language_info": {
   "codemirror_mode": {
    "name": "ipython",
    "version": 3
   },
   "file_extension": ".py",
   "mimetype": "text/x-python",
   "name": "python",
   "nbconvert_exporter": "python",
   "pygments_lexer": "ipython3",
   "version": "3.8.13"
  },
  "orig_nbformat": 4
 },
 "nbformat": 4,
 "nbformat_minor": 2
}
